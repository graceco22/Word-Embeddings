{
  "nbformat": 4,
  "nbformat_minor": 0,
  "metadata": {
    "colab": {
      "provenance": [],
      "mount_file_id": "1UGxOmgD9YqGnfRNbjGZbjXEpb-fJKF-I",
      "authorship_tag": "ABX9TyPvuifOObnXBNPcwEsUr6zk",
      "include_colab_link": true
    },
    "kernelspec": {
      "name": "python3",
      "display_name": "Python 3"
    },
    "language_info": {
      "name": "python"
    }
  },
  "cells": [
    {
      "cell_type": "markdown",
      "metadata": {
        "id": "view-in-github",
        "colab_type": "text"
      },
      "source": [
        "<a href=\"https://colab.research.google.com/github/graceco22/Word-Embeddings/blob/main/MLPreprocessing.ipynb\" target=\"_parent\"><img src=\"https://colab.research.google.com/assets/colab-badge.svg\" alt=\"Open In Colab\"/></a>"
      ]
    },
    {
      "cell_type": "code",
      "source": [
        "# Import Libraries and Dataset\n",
        "\n",
        "import numpy as np\n",
        "import pandas as pd\n",
        "from bs4 import BeautifulSoup\n",
        "import re\n",
        "\n",
        "df = pd.read_csv('covid19_tweets.csv')"
      ],
      "metadata": {
        "id": "3pTBq6gOOeDL"
      },
      "execution_count": null,
      "outputs": []
    },
    {
      "cell_type": "code",
      "execution_count": null,
      "metadata": {
        "id": "bEMkLdBn7T-2"
      },
      "outputs": [],
      "source": [
        "# Remove Links\n",
        "\n",
        "df[\"clean_text\"] = df[\"text\"].apply(lambda s: ' '.join(re.sub(\"(w+://S+)\", \" \", s).split()))\n",
        "df[['text','clean_text']].iloc[94807]"
      ]
    },
    {
      "cell_type": "code",
      "source": [
        "# Remove Punctuations\n",
        "\n",
        "df[\"clean_text\"] = df[\"clean_text\"].apply(lambda s: ' '.join(re.sub(\"[.,!?:;-='...@#\\\"_]\", \" \", s).split()))\n",
        "df[[\"text\",\"clean_text\"]]"
      ],
      "metadata": {
        "id": "BuaO0A4dP8r4"
      },
      "execution_count": null,
      "outputs": []
    },
    {
      "cell_type": "code",
      "source": [
        "# Remove Numbers\n",
        "\n",
        "df[\"clean_text\"].replace('d+', '', regex=True, inplace=True)\n",
        "df[[\"text\",\"clean_text\"]]"
      ],
      "metadata": {
        "id": "Kjkx4seWP4lK"
      },
      "execution_count": null,
      "outputs": []
    },
    {
      "cell_type": "code",
      "source": [
        "# Remove Emojis\n",
        "\n",
        "def deEmojify(inputString):\n",
        "    return inputString.encode('ascii', 'ignore').decode('ascii')\n",
        "df[\"clean_text\"] = df[\"clean_text\"].apply(lambda s: deEmojify(s))\n",
        "df[['text','clean_text']].iloc[12]"
      ],
      "metadata": {
        "id": "nQKWjzClP0J5"
      },
      "execution_count": null,
      "outputs": []
    },
    {
      "cell_type": "code",
      "source": [
        "# Remove stop words\n",
        "\n",
        "import nltk\n",
        "from nltk.corpus import stopwords\n",
        "nltk.download('stopwords')\n",
        "\n",
        "stop = set(stopwords.words('english'))\n",
        "\n",
        "def rem_en(input_txt):\n",
        "    words = input_txt.lower().split()\n",
        "    noise_free_words = [word for word in words if word not in stop]\n",
        "    noise_free_text = \" \".join(noise_free_words)\n",
        "    return noise_free_text\n",
        "df[\"clean_text\"] = df[\"clean_text\"].apply(lambda s: rem_en(s))\n",
        "df[[\"text\",\"clean_text\"]]"
      ],
      "metadata": {
        "id": "LLWo_6cPPVPp"
      },
      "execution_count": null,
      "outputs": []
    },
    {
      "cell_type": "code",
      "source": [
        "# Tokenization\n",
        "\n",
        "from nltk.tokenize import RegexpTokenizer\n",
        "tokeniser = RegexpTokenizer(r'w+')\n",
        "df[\"clean_text\"] = df[\"clean_text\"].apply(lambda x: tokeniser.tokenize(x))\n",
        "df[[\"text\",\"clean_text\"]]"
      ],
      "metadata": {
        "id": "Mm3XLh8eOpAC"
      },
      "execution_count": null,
      "outputs": []
    }
  ]
}